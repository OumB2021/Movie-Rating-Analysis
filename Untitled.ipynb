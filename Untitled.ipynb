{
 "cells": [
  {
   "attachments": {},
   "cell_type": "markdown",
   "id": "c6972470",
   "metadata": {},
   "source": [
    "PYTHON MNI-PROJECT "
   ]
  },
  {
   "attachments": {},
   "cell_type": "markdown",
   "metadata": {},
   "source": [
    "1. Import Packages"
   ]
  },
  {
   "cell_type": "code",
   "execution_count": 3,
   "id": "0b75b3b4",
   "metadata": {},
   "outputs": [],
   "source": [
    "import pandas as pd               # pandas library\n",
    "import numpy as np                # numpy library"
   ]
  },
  {
   "attachments": {},
   "cell_type": "markdown",
   "id": "ebcbd794",
   "metadata": {},
   "source": [
    "2. Data collection"
   ]
  },
  {
   "cell_type": "code",
   "execution_count": 4,
   "id": "af095011",
   "metadata": {},
   "outputs": [],
   "source": [
    "# Loading the CSV files in data frames using pandas\n",
    "movieDataFrame = pd.read_csv('movies.csv')\n",
    "ratingDataFrame = pd.read_csv('ratings.csv')"
   ]
  },
  {
   "attachments": {},
   "cell_type": "markdown",
   "id": "fe082b5f",
   "metadata": {},
   "source": [
    "3. Data Preprocessing"
   ]
  },
  {
   "cell_type": "code",
   "execution_count": 5,
   "id": "d7be9578",
   "metadata": {},
   "outputs": [],
   "source": [
    "# removing null values if exists\n",
    "movieDataFrame.dropna(inplace = True) \n",
    "ratingDataFrame.dropna(inplace = True)\n",
    "\n",
    "# Check for dupplicates and remove\n",
    "movieDataFrame.drop_duplicates(inplace=True)\n",
    "ratingDataFrame.drop_duplicates(inplace=True)"
   ]
  },
  {
   "attachments": {},
   "cell_type": "markdown",
   "id": "b1b5f493",
   "metadata": {},
   "source": [
    "4. Data Exploration"
   ]
  },
  {
   "attachments": {},
   "cell_type": "markdown",
   "id": "4a81141f",
   "metadata": {},
   "source": [
    "The following link which is the documentation for pandas dataframe goes over all the methods and features available in the library regarding that matter: https://pandas.pydata.org/docs/reference/api/pandas.DataFrame.html"
   ]
  },
  {
   "cell_type": "code",
   "execution_count": 24,
   "id": "77d3b8b3",
   "metadata": {},
   "outputs": [
    {
     "name": "stdout",
     "output_type": "stream",
     "text": [
      "Number of movies are: 58098\n",
      "The average rating per movie is 47.33\n"
     ]
    }
   ],
   "source": [
    "# Total number of movies in the dataframe.\n",
    "NumberOfMovies = len(movieDataFrame)\n",
    "print (\"Number of movies are: %d\" % NumberOfMovies)\n",
    "\n",
    "# Total number of unique genres\n",
    "movieList = movieDataFrame.values.tolist()\n",
    "\n",
    "# Will contain a hash map with key being the genre and value being the occurrence of the genre\n",
    "genreDict = dict() \n",
    "\n",
    "for i in range(0, len(movieList)):\n",
    "  movieGenres = movieList[i][2].split('|')\n",
    "\n",
    "  j = 0\n",
    "  while (j < len(movieGenres)):\n",
    "\n",
    "    if (movieGenres[j] not in genreDict):\n",
    "      genreDict[movieGenres[j]] = movieDataFrame.genres.str.count(movieGenres[j]).sum()\n",
    "\n",
    "    j = j + 1\n",
    "\n",
    "  if (len(genreDict) == 13):\n",
    "    break\n",
    "\n",
    "\n",
    "#Compute the average number of ratings per movie\n",
    "\n",
    "#Merge both dataframes\n",
    "merged_dataframes = pd.merge(movieDataFrame, ratingDataFrame, on='movieId')\n",
    "\n",
    "# merge both dataframes\n",
    "#merged_dataframes.to_csv('merged_df.csv', index=False)\n",
    "\n",
    "AverageRating = merged_dataframes.groupby('movieId')['rating'].count().mean()\n",
    "print (\"The average rating per movie is %.2f\" % AverageRating)"
   ]
  }
 ],
 "metadata": {
  "kernelspec": {
   "display_name": "Python 3 (ipykernel)",
   "language": "python",
   "name": "python3"
  },
  "language_info": {
   "codemirror_mode": {
    "name": "ipython",
    "version": 3
   },
   "file_extension": ".py",
   "mimetype": "text/x-python",
   "name": "python",
   "nbconvert_exporter": "python",
   "pygments_lexer": "ipython3",
   "version": "3.10.9"
  }
 },
 "nbformat": 4,
 "nbformat_minor": 5
}
