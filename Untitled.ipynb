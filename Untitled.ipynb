{
 "cells": [
  {
   "attachments": {},
   "cell_type": "markdown",
   "id": "c6972470",
   "metadata": {},
   "source": [
    "PYTHON MNI-PROJECT "
   ]
  },
  {
   "cell_type": "code",
   "execution_count": 1,
   "id": "0b75b3b4",
   "metadata": {},
   "outputs": [],
   "source": [
    "import pandas as pd               # pandas library\n",
    "import numpy as np                # numpy library\n"
   ]
  },
  {
   "cell_type": "code",
   "execution_count": 4,
   "id": "af095011",
   "metadata": {},
   "outputs": [
    {
     "name": "stdout",
     "output_type": "stream",
     "text": [
      "movieId    0\n",
      "title      0\n",
      "genres     0\n",
      "dtype: int64\n"
     ]
    }
   ],
   "source": [
    "# Loading the CSV files in data frames using pandas\n",
    "movieDataFrame = pd.read_csv('movies.csv')\n",
    "ratingDataFrame = pd.read_csv('ratings.csv')\n",
    "\n",
    "print (movieDataFrame.isnull().sum())"
   ]
  }
 ],
 "metadata": {
  "kernelspec": {
   "display_name": "Python 3 (ipykernel)",
   "language": "python",
   "name": "python3"
  },
  "language_info": {
   "codemirror_mode": {
    "name": "ipython",
    "version": 3
   },
   "file_extension": ".py",
   "mimetype": "text/x-python",
   "name": "python",
   "nbconvert_exporter": "python",
   "pygments_lexer": "ipython3",
   "version": "3.10.9"
  }
 },
 "nbformat": 4,
 "nbformat_minor": 5
}
