{
 "cells": [
  {
   "attachments": {},
   "cell_type": "markdown",
   "id": "c6972470",
   "metadata": {},
   "source": [
    "PYTHON MNI-PROJECT "
   ]
  },
  {
   "attachments": {},
   "cell_type": "markdown",
   "metadata": {},
   "source": [
    "1. Import Packages"
   ]
  },
  {
   "cell_type": "code",
   "execution_count": 1,
   "id": "0b75b3b4",
   "metadata": {},
   "outputs": [],
   "source": [
    "import pandas as pd               # pandas library\n",
    "import numpy as np                # numpy library\n",
    "import matplotlib.pyplot as plt          # matplotlib library"
   ]
  },
  {
   "attachments": {},
   "cell_type": "markdown",
   "id": "ebcbd794",
   "metadata": {},
   "source": [
    "2. Data collection"
   ]
  },
  {
   "cell_type": "code",
   "execution_count": 2,
   "id": "af095011",
   "metadata": {},
   "outputs": [],
   "source": [
    "# Loading the CSV files in data frames using pandas\n",
    "movieDataFrame = pd.read_csv('movies.csv')\n",
    "ratingDataFrame = pd.read_csv('ratings.csv')"
   ]
  },
  {
   "attachments": {},
   "cell_type": "markdown",
   "id": "fe082b5f",
   "metadata": {},
   "source": [
    "3. Data Preprocessing"
   ]
  },
  {
   "cell_type": "code",
   "execution_count": 3,
   "id": "d7be9578",
   "metadata": {},
   "outputs": [
    {
     "name": "stdout",
     "output_type": "stream",
     "text": [
      "1048575\n",
      "1048512\n"
     ]
    }
   ],
   "source": [
    "# removing null values if exists\n",
    "movieDataFrame.dropna(inplace = True) \n",
    "ratingDataFrame.dropna(inplace = True)\n",
    "\n",
    "print (len(ratingDataFrame))\n",
    "# Check for dupplicates and remove\n",
    "titleDict = dict()\n",
    "for index, row in movieDataFrame.iterrows():\n",
    "  movie_id = row['movieId'] \n",
    "  movie_name = row['title']\n",
    "  if (movie_name in titleDict):\n",
    "    values = []\n",
    "    values.append(titleDict[movie_name])\n",
    "    values.append(movie_id)\n",
    "    titleDict[movie_name] = values\n",
    "  else:\n",
    "    titleDict[movie_name] = movie_id\n",
    "\n",
    "keys_to_delete = [key for key, value in titleDict.items() if isinstance(value, int)]\n",
    "for key in keys_to_delete:\n",
    "    del titleDict[key]\n",
    "\n",
    "dupplicates_ids = []\n",
    "# Delete all dupplicates\n",
    "for key in titleDict:\n",
    "  dupplicates_ids.append(titleDict.get(key)[1])  #because each movie that has a dupplicate only has one dupplicate\n",
    "\n",
    "NewMovieDf = movieDataFrame.drop(movieDataFrame[movieDataFrame['movieId'].isin(dupplicates_ids)].index, axis=0)\n",
    "newRatingDf = ratingDataFrame.drop(ratingDataFrame[ratingDataFrame['movieId'].isin(dupplicates_ids)].index, axis=0)\n",
    "\n",
    "print (len(newRatingDf))\n",
    "\n"
   ]
  },
  {
   "attachments": {},
   "cell_type": "markdown",
   "id": "b1b5f493",
   "metadata": {},
   "source": [
    "4. Data Exploration"
   ]
  },
  {
   "attachments": {},
   "cell_type": "markdown",
   "id": "4a81141f",
   "metadata": {},
   "source": [
    "The following link which is the documentation for pandas dataframe goes over all the methods and features available in the library regarding that matter: https://pandas.pydata.org/docs/reference/api/pandas.DataFrame.html"
   ]
  },
  {
   "cell_type": "code",
   "execution_count": 5,
   "id": "77d3b8b3",
   "metadata": {},
   "outputs": [
    {
     "name": "stdout",
     "output_type": "stream",
     "text": [
      "Number of movies are: 58020\n",
      "The average rating per movie is 47.36\n"
     ]
    }
   ],
   "source": [
    "# Total number of movies in the dataframe.\n",
    "NumberOfMovies = len(NewMovieDf)\n",
    "print (\"Number of movies are: %d\" % NumberOfMovies)\n",
    "\n",
    "# Total number of unique genres\n",
    "movieList = NewMovieDf.values.tolist()\n",
    "\n",
    "# Will contain a hash map with key being the genre and value being the occurrence of the genre\n",
    "genreDict = dict() \n",
    "\n",
    "for i in range(0, len(movieList)):\n",
    "  movieGenres = movieList[i][2].split('|')\n",
    "\n",
    "  j = 0\n",
    "  while (j < len(movieGenres)):\n",
    "\n",
    "    if (movieGenres[j] not in genreDict):\n",
    "      genreDict[movieGenres[j]] = NewMovieDf.genres.str.count(movieGenres[j]).sum()\n",
    "\n",
    "    j = j + 1\n",
    "\n",
    "  if (len(genreDict) == 13):\n",
    "    break\n",
    "\n",
    "\n",
    "#Compute the average number of ratings per movie\n",
    "\n",
    "AverageRating = newRatingDf['movieId'].value_counts().mean()\n",
    "print (\"The average rating per movie is %.2f\" % AverageRating)"
   ]
  },
  {
   "attachments": {},
   "cell_type": "markdown",
   "id": "ef0d4573",
   "metadata": {},
   "source": [
    "5. Data Analysis"
   ]
  },
  {
   "cell_type": "code",
   "execution_count": 11,
   "id": "7560134e",
   "metadata": {},
   "outputs": [
    {
     "name": "stdout",
     "output_type": "stream",
     "text": [
      "The average rating of each movie is movieId\n",
      "1         3.887097\n",
      "2         3.215965\n",
      "3         3.192369\n",
      "4         2.972868\n",
      "5         3.046453\n",
      "            ...   \n",
      "193595    3.500000\n",
      "193599    4.500000\n",
      "193793    2.000000\n",
      "193843    4.000000\n",
      "193861    3.000000\n",
      "Name: rating, Length: 22141, dtype: float64\n"
     ]
    }
   ],
   "source": [
    "# Compute the average rating of each movie\n",
    "movieRating = newRatingDf.groupby('movieId')['rating'].mean()\n",
    "print ('The average rating of each movie is', movieRating)"
   ]
  }
 ],
 "metadata": {
  "kernelspec": {
   "display_name": "Python 3 (ipykernel)",
   "language": "python",
   "name": "python3"
  },
  "language_info": {
   "codemirror_mode": {
    "name": "ipython",
    "version": 3
   },
   "file_extension": ".py",
   "mimetype": "text/x-python",
   "name": "python",
   "nbconvert_exporter": "python",
   "pygments_lexer": "ipython3",
   "version": "3.10.9"
  }
 },
 "nbformat": 4,
 "nbformat_minor": 5
}
