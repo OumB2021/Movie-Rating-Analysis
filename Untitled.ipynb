{
 "cells": [
  {
   "attachments": {},
   "cell_type": "markdown",
   "id": "c6972470",
   "metadata": {},
   "source": [
    "PYTHON MNI-PROJECT "
   ]
  },
  {
   "attachments": {},
   "cell_type": "markdown",
   "id": "8f9bca70",
   "metadata": {},
   "source": [
    "1. Import Packages"
   ]
  },
  {
   "cell_type": "code",
   "execution_count": 13,
   "id": "0b75b3b4",
   "metadata": {},
   "outputs": [],
   "source": [
    "import pandas as pd               # pandas library\n",
    "import numpy as np                # numpy library\n"
   ]
  },
  {
   "attachments": {},
   "cell_type": "markdown",
   "id": "ebcbd794",
   "metadata": {},
   "source": [
    "2. Data collection"
   ]
  },
  {
   "cell_type": "code",
   "execution_count": 31,
   "id": "af095011",
   "metadata": {},
   "outputs": [
    {
     "name": "stdout",
     "output_type": "stream",
     "text": [
      "<class 'float'>\n"
     ]
    }
   ],
   "source": [
    "# Loading the CSV files in data frames using pandas\n",
    "movieDataFrame = pd.read_csv('movies.csv')\n",
    "ratingDataFrame = pd.read_csv('ratings.csv')"
   ]
  },
  {
   "attachments": {},
   "cell_type": "markdown",
   "id": "fe082b5f",
   "metadata": {},
   "source": [
    "3. Data Preprocessing"
   ]
  },
  {
   "cell_type": "code",
   "execution_count": 36,
   "id": "d7be9578",
   "metadata": {},
   "outputs": [],
   "source": [
    "# removing null values if exists\n",
    "movieDataFrame.dropna(inplace = True) \n",
    "ratingDataFrame.dropna(inplace = True)\n",
    "\n",
    "# Check for dupplicates and remove\n",
    "movieDataFrame.drop_duplicates(inplace=True)\n",
    "ratingDataFrame.drop_duplicates(inplace=True)"
   ]
  }
 ],
 "metadata": {
  "kernelspec": {
   "display_name": "Python 3 (ipykernel)",
   "language": "python",
   "name": "python3"
  },
  "language_info": {
   "codemirror_mode": {
    "name": "ipython",
    "version": 3
   },
   "file_extension": ".py",
   "mimetype": "text/x-python",
   "name": "python",
   "nbconvert_exporter": "python",
   "pygments_lexer": "ipython3",
   "version": "3.10.9"
  }
 },
 "nbformat": 4,
 "nbformat_minor": 5
}
